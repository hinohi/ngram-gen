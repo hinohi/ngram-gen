{
 "cells": [
  {
   "cell_type": "markdown",
   "id": "841189a5",
   "metadata": {},
   "source": [
    "https://zukan.pokemon.co.jp/ の HTML をダウンロードしてきてゴニョって li だけの羅列にしたものをパースする"
   ]
  },
  {
   "cell_type": "code",
   "execution_count": 1,
   "id": "2a1bbe29",
   "metadata": {},
   "outputs": [],
   "source": [
    "from dataclasses import dataclass, asdict\n",
    "from html.parser import HTMLParser"
   ]
  },
  {
   "cell_type": "code",
   "execution_count": 2,
   "id": "f4acf47c",
   "metadata": {},
   "outputs": [],
   "source": [
    "@dataclass()\n",
    "class Poke:\n",
    "    name: str\n",
    "    alt: str\n",
    "    number: str\n",
    "    img_url: str\n",
    "\n",
    "def get_attr(attrs: list[tuple[str, str]], name: str) -> str:\n",
    "    for a, v in attrs:\n",
    "        if a == name:\n",
    "            return v\n",
    "    raise ValueError(name)\n",
    "\n",
    "class PParser(HTMLParser):\n",
    "    \n",
    "    def __init__(self):\n",
    "        super().__init__()\n",
    "        self.data = []\n",
    "        self.name = ''\n",
    "        self.alt = ''\n",
    "        self.number = ''\n",
    "        self.img_url = ''\n",
    "        self.state = 0\n",
    "    \n",
    "    def handle_starttag(self, tag, attrs):\n",
    "        self.state = 0\n",
    "        match tag:\n",
    "            case 'li':\n",
    "                self.name = ''\n",
    "                self.alt = ''\n",
    "                self.number = get_attr(attrs, 'id')\n",
    "                self.img_url = ''\n",
    "            case 'img':\n",
    "                self.img_url = get_attr(attrs, 'src')\n",
    "                self.alt = get_attr(attrs, 'alt')\n",
    "            case 'p':\n",
    "                self.state = 1\n",
    "            case 'span':\n",
    "                self.state = 2\n",
    "\n",
    "    def handle_endtag(self, tag):\n",
    "        match tag:\n",
    "            case 'li':\n",
    "                self.data.append(Poke(self.name, self.alt, self.number, self.img_url))\n",
    "\n",
    "    def handle_data(self, data):\n",
    "        match self.state:\n",
    "            case 1:\n",
    "                self.name = data\n",
    "            case 2:\n",
    "                self.name += data"
   ]
  },
  {
   "cell_type": "code",
   "execution_count": 3,
   "id": "bea6168b",
   "metadata": {},
   "outputs": [],
   "source": [
    "parser = PParser()\n",
    "with open('poke.html') as f:\n",
    "    parser.feed(f.read())"
   ]
  },
  {
   "cell_type": "code",
   "execution_count": 4,
   "id": "e80aa54a",
   "metadata": {},
   "outputs": [],
   "source": [
    "import csv\n",
    "with open('poke.csv', 'w') as f:\n",
    "    w = csv.DictWriter(f, list(Poke.__dataclass_fields__.keys()))\n",
    "    w.writeheader()\n",
    "    for d in parser.data:\n",
    "        w.writerow(asdict(d))"
   ]
  }
 ],
 "metadata": {
  "kernelspec": {
   "display_name": "Python 3 (ipykernel)",
   "language": "python",
   "name": "python3"
  },
  "language_info": {
   "codemirror_mode": {
    "name": "ipython",
    "version": 3
   },
   "file_extension": ".py",
   "mimetype": "text/x-python",
   "name": "python",
   "nbconvert_exporter": "python",
   "pygments_lexer": "ipython3",
   "version": "3.10.2"
  }
 },
 "nbformat": 4,
 "nbformat_minor": 5
}
